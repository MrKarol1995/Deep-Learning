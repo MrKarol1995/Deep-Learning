{
 "cells": [
  {
   "cell_type": "code",
   "execution_count": 1,
   "metadata": {},
   "outputs": [],
   "source": [
    "import pandas as pd\n",
    "import numpy as np\n",
    "import matplotlib.pyplot as plt\n",
    "\n",
    "import torch\n",
    "import torch.nn as nn\n",
    "\n",
    "data = pd.read_csv('BA_stock_data.csv') # doda zmodyfikowane RĘCZNIE dane z pliku\n",
    "\n",
    "data = data[['Date','Close']]\n",
    "#data"
   ]
  },
  {
   "cell_type": "code",
   "execution_count": 3,
   "metadata": {},
   "outputs": [
    {
     "data": {
      "text/plain": [
       "[<matplotlib.lines.Line2D at 0x11b90dd60>]"
      ]
     },
     "execution_count": 3,
     "metadata": {},
     "output_type": "execute_result"
    },
    {
     "data": {
      "image/png": "[encoded data removed]",
      "text/plain": [
       "<Figure size 640x480 with 1 Axes>"
      ]
     },
     "metadata": {},
     "output_type": "display_data"
    }
   ],
   "source": [
    "data['Date']=pd.to_datetime(data['Date'])\n",
    "plt.plot(data['Date'],data['Close'])"
   ]
  },
  {
   "cell_type": "code",
   "execution_count": 4,
   "metadata": {},
   "outputs": [],
   "source": [
    "from copy import deepcopy as dc\n",
    "\n",
    "def prepare_dataframe(df,n_steps):\n",
    "  df = dc(df)\n",
    "\n",
    "  df.set_index('Date',inplace=True)\n",
    "  # Create a list of shifted 'Close' columns\n",
    "  shifted_columns = [df['Close'].shift(i).rename(f'Close(t-{i})') for i in range(1, n_steps+1)]\n",
    "    \n",
    "  # Concatenate all shifted columns with the original DataFrame\n",
    "  df = pd.concat([df] + shifted_columns, axis=1)\n",
    "  df.dropna(inplace=True)\n",
    "  return df\n",
    "\n",
    "lookback = 20\n",
    "shifted_df = prepare_dataframe(data, lookback)\n",
    "#shifted_df"
   ]
  },
  {
   "cell_type": "code",
   "execution_count": 5,
   "metadata": {},
   "outputs": [
    {
     "data": {
      "text/plain": [
       "'cpu'"
      ]
     },
     "execution_count": 5,
     "metadata": {},
     "output_type": "execute_result"
    }
   ],
   "source": [
    "device = 'cuda:0' if torch.cuda.is_available() else 'cpu'\n",
    "device"
   ]
  },
  {
   "cell_type": "code",
   "execution_count": 6,
   "metadata": {},
   "outputs": [],
   "source": [
    "shifted_df_as_np = shifted_df.to_numpy()\n",
    "#shifted_df_as_np"
   ]
  },
  {
   "cell_type": "code",
   "execution_count": 10,
   "metadata": {},
   "outputs": [],
   "source": [
    "from sklearn.preprocessing import MinMaxScaler\n",
    "\n",
    "scaler = MinMaxScaler(feature_range=(-1,1))\n",
    "shifted_df_as_np = scaler.fit_transform(shifted_df_as_np)\n",
    "#shifted_df_as_np"
   ]
  },
  {
   "cell_type": "code",
   "execution_count": 11,
   "metadata": {},
   "outputs": [
    {
     "data": {
      "text/plain": [
       "((10060, 20), (10060,))"
      ]
     },
     "execution_count": 11,
     "metadata": {},
     "output_type": "execute_result"
    }
   ],
   "source": [
    "X = shifted_df_as_np[:,1:]\n",
    "y = shifted_df_as_np[:,0]\n",
    "\n",
    "X.shape, y.shape"
   ]
  },
  {
   "cell_type": "code",
   "execution_count": 12,
   "metadata": {},
   "outputs": [],
   "source": [
    "X = dc(np.flip(X, axis = 1))\n",
    "#X\n"
   ]
  },
  {
   "cell_type": "code",
   "execution_count": 13,
   "metadata": {},
   "outputs": [
    {
     "data": {
      "text/plain": [
       "9557"
      ]
     },
     "execution_count": 13,
     "metadata": {},
     "output_type": "execute_result"
    }
   ],
   "source": [
    "split_index = int(len(X)*0.95)\n",
    "split_index"
   ]
  },
  {
   "cell_type": "code",
   "execution_count": 14,
   "metadata": {},
   "outputs": [
    {
     "data": {
      "text/plain": [
       "((9557, 20), (503, 20), (9557,), (503,))"
      ]
     },
     "execution_count": 14,
     "metadata": {},
     "output_type": "execute_result"
    }
   ],
   "source": [
    "X_train = X[:split_index]\n",
    "X_test = X[split_index:]\n",
    "\n",
    "y_train = y[:split_index]\n",
    "y_test = y[split_index:]\n",
    "X_train.shape, X_test.shape, y_train.shape, y_test.shape"
   ]
  },
  {
   "cell_type": "code",
   "execution_count": 15,
   "metadata": {},
   "outputs": [
    {
     "data": {
      "text/plain": [
       "((9557, 20, 1), (503, 20, 1), (9557, 1), (503, 1))"
      ]
     },
     "execution_count": 15,
     "metadata": {},
     "output_type": "execute_result"
    }
   ],
   "source": [
    "X_train = X_train.reshape((-1, lookback, 1))\n",
    "X_test = X_test.reshape((-1, lookback, 1))\n",
    "\n",
    "y_test = y_test.reshape((-1, 1))\n",
    "y_train = y_train.reshape((-1, 1))\n",
    "\n",
    "X_train.shape, X_test.shape, y_train.shape, y_test.shape\n"
   ]
  },
  {
   "cell_type": "code",
   "execution_count": 16,
   "metadata": {},
   "outputs": [
    {
     "data": {
      "text/plain": [
       "(torch.Size([9557, 20, 1]),\n",
       " torch.Size([503, 20, 1]),\n",
       " torch.Size([9557, 1]),\n",
       " torch.Size([503, 1]))"
      ]
     },
     "execution_count": 16,
     "metadata": {},
     "output_type": "execute_result"
    }
   ],
   "source": [
    "X_train = torch.tensor(X_train).float()\n",
    "X_test = torch.tensor(X_test).float()\n",
    "y_train = torch.tensor(y_train).float()\n",
    "y_test = torch.tensor(y_test).float()\n",
    "\n",
    "X_train.shape, X_test.shape, y_train.shape, y_test.shape"
   ]
  },
  {
   "cell_type": "code",
   "execution_count": 17,
   "metadata": {},
   "outputs": [],
   "source": [
    "from torch.utils.data import Dataset\n",
    "\n",
    "class TimeSeries(Dataset):\n",
    "  def __init__(self, X, y):\n",
    "    self.X = X\n",
    "    self.y = y\n",
    "  def __len__(self):\n",
    "    return len(self.X)\n",
    "  def __getitem__(self, i):\n",
    "    return self.X[i], self.y[i]\n",
    "\n",
    "train_dataset = TimeSeries(X_train, y_train)\n",
    "test_dataset = TimeSeries(X_test, y_test)"
   ]
  },
  {
   "cell_type": "code",
   "execution_count": 18,
   "metadata": {},
   "outputs": [
    {
     "data": {
      "text/plain": [
       "<__main__.TimeSeries at 0x138f16cc0>"
      ]
     },
     "execution_count": 18,
     "metadata": {},
     "output_type": "execute_result"
    }
   ],
   "source": [
    "train_dataset"
   ]
  },
  {
   "cell_type": "code",
   "execution_count": 19,
   "metadata": {},
   "outputs": [],
   "source": [
    "from torch.utils.data import DataLoader\n",
    "batch_size = 8 # mniej lepiej\n",
    "\n",
    "train_loader = DataLoader(train_dataset, batch_size=batch_size, shuffle=True)\n",
    "test_loader = DataLoader(test_dataset, batch_size=batch_size, shuffle=False)"
   ]
  },
  {
   "cell_type": "code",
   "execution_count": 20,
   "metadata": {},
   "outputs": [
    {
     "name": "stdout",
     "output_type": "stream",
     "text": [
      "torch.Size([8, 20, 1]) torch.Size([8, 1])\n"
     ]
    }
   ],
   "source": [
    "for _, batch in enumerate(train_loader):\n",
    "    x_batch, y_batch = batch[0].to(device), batch[1].to(device)\n",
    "    print(x_batch.shape, y_batch.shape)\n",
    "    break"
   ]
  },
  {
   "cell_type": "code",
   "execution_count": 21,
   "metadata": {},
   "outputs": [
    {
     "data": {
      "text/plain": [
       "LSTM(\n",
       "  (lstm): LSTM(1, 4, batch_first=True)\n",
       "  (fc): Linear(in_features=4, out_features=1, bias=True)\n",
       ")"
      ]
     },
     "execution_count": 21,
     "metadata": {},
     "output_type": "execute_result"
    }
   ],
   "source": [
    "class LSTM(nn.Module):\n",
    "    def __init__(self, input_size, hidden_size, num_stacked_layers):\n",
    "        super().__init__()\n",
    "        self.hidden_size = hidden_size\n",
    "        self.num_stacked_layers = num_stacked_layers\n",
    "        self.lstm = nn.LSTM(input_size, hidden_size, num_stacked_layers, batch_first=True)\n",
    "        self.fc = nn.Linear(hidden_size, 1)\n",
    "        \n",
    "    def forward(self, x):\n",
    "        batch_size = x.size(0)\n",
    "        h0 = torch.zeros(self.num_stacked_layers, batch_size, self.hidden_size).to(device)\n",
    "        c0 = torch.zeros(self.num_stacked_layers, batch_size, self.hidden_size).to(device)\n",
    "        out, _ = self.lstm(x, (h0, c0))\n",
    "        out = self.fc(out[:, -1, :])\n",
    "        return out\n",
    "model = LSTM(1,4,1)\n",
    "model.to(device)\n",
    "model"
   ]
  },
  {
   "cell_type": "code",
   "execution_count": 22,
   "metadata": {},
   "outputs": [],
   "source": [
    "def train_one_epoch():\n",
    "    model.train(True)\n",
    "    print(f'Epoch: {epoch + 1}')\n",
    "    running_loss = 0.0\n",
    "    \n",
    "    \n",
    "    for batch_index, batch in enumerate(train_loader):\n",
    "        x_batch, y_batch = batch[0].to(device), batch[1].to(device)\n",
    "        \n",
    "        output = model(x_batch)\n",
    "        loss = loss_function(output, y_batch)\n",
    "        running_loss += loss.item()\n",
    "        \n",
    "        optimizer.zero_grad()\n",
    "        loss.backward()\n",
    "        optimizer.step()\n",
    "        \n",
    "        if batch_index % 100 == 99:\n",
    "            avg_loss_across_batches = running_loss/ 100\n",
    "            print('Batch: {0}, Loss: {1:.3f}'.format(batch_index+1, avg_loss_across_batches))\n",
    "            running_loss = 0.0\n",
    "    print()"
   ]
  },
  {
   "cell_type": "code",
   "execution_count": 23,
   "metadata": {},
   "outputs": [],
   "source": [
    "def validate_one_epoch():\n",
    "    model.train(False)\n",
    "    running_loss = 0.0\n",
    "    for batch_index, batch in enumerate(test_loader):\n",
    "        x_batch, y_batch = batch[0].to(device), batch[1].to(device)\n",
    "        \n",
    "        with torch.no_grad():\n",
    "            output = model(x_batch)\n",
    "            loss = loss_function(output, y_batch)\n",
    "            running_loss += loss.item()\n",
    "            \n",
    "            \n",
    "    avg_loss_across_batches = running_loss / len(test_loader)\n",
    "    \n",
    "    print('Val loss: {0:.3f}'.format(avg_loss_across_batches))\n",
    "    print('****************************************************************')\n",
    "    print()\n",
    "        "
   ]
  },
  {
   "cell_type": "code",
   "execution_count": 24,
   "metadata": {},
   "outputs": [
    {
     "name": "stdout",
     "output_type": "stream",
     "text": [
      "Epoch: 1\n",
      "Batch: 100, Loss: 0.282\n",
      "Batch: 200, Loss: 0.114\n",
      "Batch: 300, Loss: 0.094\n",
      "Batch: 400, Loss: 0.050\n",
      "Batch: 500, Loss: 0.037\n",
      "Batch: 600, Loss: 0.026\n",
      "Batch: 700, Loss: 0.016\n",
      "Batch: 800, Loss: 0.013\n",
      "Batch: 900, Loss: 0.007\n",
      "Batch: 1000, Loss: 0.003\n",
      "Batch: 1100, Loss: 0.004\n",
      "\n",
      "Val loss: 0.002\n",
      "****************************************************************\n",
      "\n",
      "Epoch: 2\n",
      "Batch: 100, Loss: 0.002\n",
      "Batch: 200, Loss: 0.001\n",
      "Batch: 300, Loss: 0.001\n",
      "Batch: 400, Loss: 0.001\n",
      "Batch: 500, Loss: 0.001\n",
      "Batch: 600, Loss: 0.000\n",
      "Batch: 700, Loss: 0.001\n",
      "Batch: 800, Loss: 0.001\n",
      "Batch: 900, Loss: 0.000\n",
      "Batch: 1000, Loss: 0.001\n",
      "Batch: 1100, Loss: 0.001\n",
      "\n",
      "Val loss: 0.001\n",
      "****************************************************************\n",
      "\n",
      "Epoch: 3\n",
      "Batch: 100, Loss: 0.001\n",
      "Batch: 200, Loss: 0.001\n",
      "Batch: 300, Loss: 0.000\n",
      "Batch: 400, Loss: 0.000\n",
      "Batch: 500, Loss: 0.001\n",
      "Batch: 600, Loss: 0.000\n",
      "Batch: 700, Loss: 0.000\n",
      "Batch: 800, Loss: 0.000\n",
      "Batch: 900, Loss: 0.001\n",
      "Batch: 1000, Loss: 0.000\n",
      "Batch: 1100, Loss: 0.000\n",
      "\n",
      "Val loss: 0.001\n",
      "****************************************************************\n",
      "\n",
      "Epoch: 4\n",
      "Batch: 100, Loss: 0.000\n",
      "Batch: 200, Loss: 0.000\n",
      "Batch: 300, Loss: 0.000\n",
      "Batch: 400, Loss: 0.000\n",
      "Batch: 500, Loss: 0.000\n",
      "Batch: 600, Loss: 0.000\n",
      "Batch: 700, Loss: 0.000\n",
      "Batch: 800, Loss: 0.000\n",
      "Batch: 900, Loss: 0.000\n",
      "Batch: 1000, Loss: 0.000\n",
      "Batch: 1100, Loss: 0.000\n",
      "\n",
      "Val loss: 0.001\n",
      "****************************************************************\n",
      "\n",
      "Epoch: 5\n",
      "Batch: 100, Loss: 0.000\n",
      "Batch: 200, Loss: 0.000\n",
      "Batch: 300, Loss: 0.000\n",
      "Batch: 400, Loss: 0.000\n",
      "Batch: 500, Loss: 0.000\n",
      "Batch: 600, Loss: 0.000\n",
      "Batch: 700, Loss: 0.000\n",
      "Batch: 800, Loss: 0.000\n",
      "Batch: 900, Loss: 0.000\n",
      "Batch: 1000, Loss: 0.000\n",
      "Batch: 1100, Loss: 0.000\n",
      "\n",
      "Val loss: 0.000\n",
      "****************************************************************\n",
      "\n",
      "Epoch: 6\n",
      "Batch: 100, Loss: 0.000\n",
      "Batch: 200, Loss: 0.000\n",
      "Batch: 300, Loss: 0.000\n",
      "Batch: 400, Loss: 0.000\n",
      "Batch: 500, Loss: 0.000\n",
      "Batch: 600, Loss: 0.000\n",
      "Batch: 700, Loss: 0.000\n",
      "Batch: 800, Loss: 0.000\n",
      "Batch: 900, Loss: 0.000\n",
      "Batch: 1000, Loss: 0.000\n",
      "Batch: 1100, Loss: 0.000\n",
      "\n",
      "Val loss: 0.000\n",
      "****************************************************************\n",
      "\n",
      "Epoch: 7\n",
      "Batch: 100, Loss: 0.000\n",
      "Batch: 200, Loss: 0.000\n",
      "Batch: 300, Loss: 0.000\n",
      "Batch: 400, Loss: 0.000\n",
      "Batch: 500, Loss: 0.000\n",
      "Batch: 600, Loss: 0.000\n",
      "Batch: 700, Loss: 0.000\n",
      "Batch: 800, Loss: 0.000\n",
      "Batch: 900, Loss: 0.000\n",
      "Batch: 1000, Loss: 0.000\n",
      "Batch: 1100, Loss: 0.000\n",
      "\n",
      "Val loss: 0.000\n",
      "****************************************************************\n",
      "\n",
      "Epoch: 8\n",
      "Batch: 100, Loss: 0.000\n",
      "Batch: 200, Loss: 0.000\n",
      "Batch: 300, Loss: 0.000\n",
      "Batch: 400, Loss: 0.000\n",
      "Batch: 500, Loss: 0.000\n",
      "Batch: 600, Loss: 0.000\n",
      "Batch: 700, Loss: 0.000\n",
      "Batch: 800, Loss: 0.000\n",
      "Batch: 900, Loss: 0.000\n",
      "Batch: 1000, Loss: 0.000\n",
      "Batch: 1100, Loss: 0.000\n",
      "\n",
      "Val loss: 0.000\n",
      "****************************************************************\n",
      "\n",
      "Epoch: 9\n",
      "Batch: 100, Loss: 0.000\n",
      "Batch: 200, Loss: 0.000\n",
      "Batch: 300, Loss: 0.000\n",
      "Batch: 400, Loss: 0.000\n",
      "Batch: 500, Loss: 0.000\n",
      "Batch: 600, Loss: 0.000\n",
      "Batch: 700, Loss: 0.000\n",
      "Batch: 800, Loss: 0.000\n",
      "Batch: 900, Loss: 0.000\n",
      "Batch: 1000, Loss: 0.000\n",
      "Batch: 1100, Loss: 0.000\n",
      "\n",
      "Val loss: 0.000\n",
      "****************************************************************\n",
      "\n",
      "Epoch: 10\n",
      "Batch: 100, Loss: 0.000\n",
      "Batch: 200, Loss: 0.000\n",
      "Batch: 300, Loss: 0.000\n",
      "Batch: 400, Loss: 0.000\n",
      "Batch: 500, Loss: 0.000\n",
      "Batch: 600, Loss: 0.000\n",
      "Batch: 700, Loss: 0.000\n",
      "Batch: 800, Loss: 0.000\n",
      "Batch: 900, Loss: 0.000\n",
      "Batch: 1000, Loss: 0.000\n",
      "Batch: 1100, Loss: 0.000\n",
      "\n",
      "Val loss: 0.001\n",
      "****************************************************************\n",
      "\n",
      "Epoch: 11\n",
      "Batch: 100, Loss: 0.000\n",
      "Batch: 200, Loss: 0.000\n",
      "Batch: 300, Loss: 0.000\n",
      "Batch: 400, Loss: 0.000\n",
      "Batch: 500, Loss: 0.000\n",
      "Batch: 600, Loss: 0.000\n",
      "Batch: 700, Loss: 0.000\n",
      "Batch: 800, Loss: 0.000\n",
      "Batch: 900, Loss: 0.000\n",
      "Batch: 1000, Loss: 0.000\n",
      "Batch: 1100, Loss: 0.000\n",
      "\n",
      "Val loss: 0.000\n",
      "****************************************************************\n",
      "\n",
      "Epoch: 12\n",
      "Batch: 100, Loss: 0.000\n",
      "Batch: 200, Loss: 0.000\n",
      "Batch: 300, Loss: 0.000\n",
      "Batch: 400, Loss: 0.000\n",
      "Batch: 500, Loss: 0.000\n",
      "Batch: 600, Loss: 0.000\n",
      "Batch: 700, Loss: 0.000\n",
      "Batch: 800, Loss: 0.000\n",
      "Batch: 900, Loss: 0.000\n",
      "Batch: 1000, Loss: 0.000\n",
      "Batch: 1100, Loss: 0.000\n",
      "\n",
      "Val loss: 0.000\n",
      "****************************************************************\n",
      "\n",
      "Epoch: 13\n",
      "Batch: 100, Loss: 0.000\n",
      "Batch: 200, Loss: 0.000\n",
      "Batch: 300, Loss: 0.000\n",
      "Batch: 400, Loss: 0.000\n",
      "Batch: 500, Loss: 0.000\n",
      "Batch: 600, Loss: 0.000\n",
      "Batch: 700, Loss: 0.000\n",
      "Batch: 800, Loss: 0.000\n",
      "Batch: 900, Loss: 0.000\n",
      "Batch: 1000, Loss: 0.000\n",
      "Batch: 1100, Loss: 0.000\n",
      "\n",
      "Val loss: 0.000\n",
      "****************************************************************\n",
      "\n",
      "Epoch: 14\n",
      "Batch: 100, Loss: 0.000\n",
      "Batch: 200, Loss: 0.000\n",
      "Batch: 300, Loss: 0.000\n",
      "Batch: 400, Loss: 0.000\n",
      "Batch: 500, Loss: 0.000\n",
      "Batch: 600, Loss: 0.000\n",
      "Batch: 700, Loss: 0.000\n",
      "Batch: 800, Loss: 0.000\n",
      "Batch: 900, Loss: 0.000\n",
      "Batch: 1000, Loss: 0.000\n",
      "Batch: 1100, Loss: 0.000\n",
      "\n",
      "Val loss: 0.000\n",
      "****************************************************************\n",
      "\n",
      "Epoch: 15\n",
      "Batch: 100, Loss: 0.000\n",
      "Batch: 200, Loss: 0.000\n",
      "Batch: 300, Loss: 0.000\n",
      "Batch: 400, Loss: 0.000\n",
      "Batch: 500, Loss: 0.000\n",
      "Batch: 600, Loss: 0.000\n",
      "Batch: 700, Loss: 0.000\n",
      "Batch: 800, Loss: 0.000\n",
      "Batch: 900, Loss: 0.000\n",
      "Batch: 1000, Loss: 0.000\n",
      "Batch: 1100, Loss: 0.000\n",
      "\n",
      "Val loss: 0.000\n",
      "****************************************************************\n",
      "\n",
      "Epoch: 16\n",
      "Batch: 100, Loss: 0.000\n",
      "Batch: 200, Loss: 0.000\n",
      "Batch: 300, Loss: 0.000\n",
      "Batch: 400, Loss: 0.000\n",
      "Batch: 500, Loss: 0.000\n",
      "Batch: 600, Loss: 0.000\n",
      "Batch: 700, Loss: 0.000\n",
      "Batch: 800, Loss: 0.000\n",
      "Batch: 900, Loss: 0.000\n",
      "Batch: 1000, Loss: 0.000\n",
      "Batch: 1100, Loss: 0.000\n",
      "\n",
      "Val loss: 0.000\n",
      "****************************************************************\n",
      "\n",
      "Epoch: 17\n",
      "Batch: 100, Loss: 0.000\n",
      "Batch: 200, Loss: 0.000\n",
      "Batch: 300, Loss: 0.000\n",
      "Batch: 400, Loss: 0.000\n",
      "Batch: 500, Loss: 0.000\n",
      "Batch: 600, Loss: 0.000\n",
      "Batch: 700, Loss: 0.000\n",
      "Batch: 800, Loss: 0.000\n",
      "Batch: 900, Loss: 0.000\n",
      "Batch: 1000, Loss: 0.000\n",
      "Batch: 1100, Loss: 0.000\n",
      "\n",
      "Val loss: 0.000\n",
      "****************************************************************\n",
      "\n",
      "Epoch: 18\n",
      "Batch: 100, Loss: 0.000\n",
      "Batch: 200, Loss: 0.000\n",
      "Batch: 300, Loss: 0.000\n",
      "Batch: 400, Loss: 0.000\n",
      "Batch: 500, Loss: 0.000\n",
      "Batch: 600, Loss: 0.000\n",
      "Batch: 700, Loss: 0.000\n",
      "Batch: 800, Loss: 0.000\n",
      "Batch: 900, Loss: 0.000\n",
      "Batch: 1000, Loss: 0.000\n",
      "Batch: 1100, Loss: 0.000\n",
      "\n",
      "Val loss: 0.000\n",
      "****************************************************************\n",
      "\n",
      "Epoch: 19\n",
      "Batch: 100, Loss: 0.000\n",
      "Batch: 200, Loss: 0.000\n",
      "Batch: 300, Loss: 0.000\n",
      "Batch: 400, Loss: 0.000\n",
      "Batch: 500, Loss: 0.000\n",
      "Batch: 600, Loss: 0.000\n",
      "Batch: 700, Loss: 0.000\n",
      "Batch: 800, Loss: 0.000\n",
      "Batch: 900, Loss: 0.000\n",
      "Batch: 1000, Loss: 0.000\n",
      "Batch: 1100, Loss: 0.000\n",
      "\n",
      "Val loss: 0.000\n",
      "****************************************************************\n",
      "\n",
      "Epoch: 20\n",
      "Batch: 100, Loss: 0.000\n",
      "Batch: 200, Loss: 0.000\n",
      "Batch: 300, Loss: 0.000\n",
      "Batch: 400, Loss: 0.000\n",
      "Batch: 500, Loss: 0.000\n",
      "Batch: 600, Loss: 0.000\n",
      "Batch: 700, Loss: 0.000\n",
      "Batch: 800, Loss: 0.000\n",
      "Batch: 900, Loss: 0.000\n",
      "Batch: 1000, Loss: 0.000\n",
      "Batch: 1100, Loss: 0.000\n",
      "\n",
      "Val loss: 0.000\n",
      "****************************************************************\n",
      "\n",
      "Epoch: 21\n",
      "Batch: 100, Loss: 0.000\n",
      "Batch: 200, Loss: 0.000\n",
      "Batch: 300, Loss: 0.000\n",
      "Batch: 400, Loss: 0.000\n",
      "Batch: 500, Loss: 0.000\n",
      "Batch: 600, Loss: 0.000\n",
      "Batch: 700, Loss: 0.000\n",
      "Batch: 800, Loss: 0.000\n",
      "Batch: 900, Loss: 0.000\n",
      "Batch: 1000, Loss: 0.000\n",
      "Batch: 1100, Loss: 0.000\n",
      "\n",
      "Val loss: 0.000\n",
      "****************************************************************\n",
      "\n",
      "Epoch: 22\n",
      "Batch: 100, Loss: 0.000\n",
      "Batch: 200, Loss: 0.000\n",
      "Batch: 300, Loss: 0.000\n",
      "Batch: 400, Loss: 0.000\n",
      "Batch: 500, Loss: 0.000\n",
      "Batch: 600, Loss: 0.000\n",
      "Batch: 700, Loss: 0.000\n",
      "Batch: 800, Loss: 0.000\n",
      "Batch: 900, Loss: 0.000\n",
      "Batch: 1000, Loss: 0.000\n",
      "Batch: 1100, Loss: 0.000\n",
      "\n",
      "Val loss: 0.000\n",
      "****************************************************************\n",
      "\n",
      "Epoch: 23\n",
      "Batch: 100, Loss: 0.000\n",
      "Batch: 200, Loss: 0.000\n",
      "Batch: 300, Loss: 0.000\n",
      "Batch: 400, Loss: 0.000\n",
      "Batch: 500, Loss: 0.000\n",
      "Batch: 600, Loss: 0.000\n",
      "Batch: 700, Loss: 0.000\n",
      "Batch: 800, Loss: 0.000\n",
      "Batch: 900, Loss: 0.000\n",
      "Batch: 1000, Loss: 0.000\n",
      "Batch: 1100, Loss: 0.000\n",
      "\n",
      "Val loss: 0.000\n",
      "****************************************************************\n",
      "\n",
      "Epoch: 24\n",
      "Batch: 100, Loss: 0.000\n",
      "Batch: 200, Loss: 0.000\n",
      "Batch: 300, Loss: 0.000\n",
      "Batch: 400, Loss: 0.000\n",
      "Batch: 500, Loss: 0.000\n",
      "Batch: 600, Loss: 0.000\n",
      "Batch: 700, Loss: 0.000\n",
      "Batch: 800, Loss: 0.000\n",
      "Batch: 900, Loss: 0.000\n",
      "Batch: 1000, Loss: 0.000\n",
      "Batch: 1100, Loss: 0.000\n",
      "\n",
      "Val loss: 0.000\n",
      "****************************************************************\n",
      "\n",
      "Epoch: 25\n",
      "Batch: 100, Loss: 0.000\n",
      "Batch: 200, Loss: 0.000\n",
      "Batch: 300, Loss: 0.000\n",
      "Batch: 400, Loss: 0.000\n",
      "Batch: 500, Loss: 0.000\n",
      "Batch: 600, Loss: 0.000\n",
      "Batch: 700, Loss: 0.000\n",
      "Batch: 800, Loss: 0.000\n",
      "Batch: 900, Loss: 0.000\n",
      "Batch: 1000, Loss: 0.000\n",
      "Batch: 1100, Loss: 0.000\n",
      "\n",
      "Val loss: 0.000\n",
      "****************************************************************\n",
      "\n"
     ]
    }
   ],
   "source": [
    "learning_rate = 0.001\n",
    "num_epochs = 25 # więcej lepiej\n",
    "loss_function = nn.MSELoss()\n",
    "optimizer = torch.optim.Adam(model.parameters(), lr=learning_rate)\n",
    "\n",
    "for epoch in range(num_epochs):\n",
    "    train_one_epoch()\n",
    "    validate_one_epoch()"
   ]
  },
  {
   "cell_type": "code",
   "execution_count": 25,
   "metadata": {},
   "outputs": [
    {
     "data": {
      "image/png": "[encoded data removed]",
      "text/plain": [
       "<Figure size 640x480 with 1 Axes>"
      ]
     },
     "metadata": {},
     "output_type": "display_data"
    }
   ],
   "source": [
    "with torch.no_grad():\n",
    "    predicted = model(X_train.to(device)).to('cpu').numpy()\n",
    "    \n",
    "plt.plot(y_train, label='True')\n",
    "plt.plot(predicted, label='Predicted')\n",
    "plt.xlabel('Day')\n",
    "plt.ylabel('Close')\n",
    "plt.legend()\n",
    "plt.show()"
   ]
  },
  {
   "cell_type": "code",
   "execution_count": 26,
   "metadata": {},
   "outputs": [
    {
     "data": {
      "text/plain": [
       "array([-1.0001874 , -0.99996275, -0.99997497, ..., -0.13536277,\n",
       "       -0.12906191, -0.13276517], shape=(9557,))"
      ]
     },
     "execution_count": 26,
     "metadata": {},
     "output_type": "execute_result"
    }
   ],
   "source": [
    "train_predictions = predicted.flatten()\n",
    "\n",
    "\n",
    "dummies = np.zeros((X_train.shape[0], lookback+1))\n",
    "dummies[:,0] = train_predictions\n",
    "dummies = scaler.inverse_transform(dummies)\n",
    "\n",
    "train_predictions = dc(dummies[:,0])\n",
    "train_predictions"
   ]
  },
  {
   "cell_type": "code",
   "execution_count": 27,
   "metadata": {},
   "outputs": [
    {
     "name": "stderr",
     "output_type": "stream",
     "text": [
      "/var/folders/d7/80fz355j2730tx2lwyv6vf1w0000gn/T/ipykernel_94193/1256457756.py:2: DeprecationWarning: __array__ implementation doesn't accept a copy keyword, so passing copy=False failed. __array__ must implement 'dtype' and 'copy' keyword arguments. To learn more, see the migration guide https://numpy.org/devdocs/numpy_2_0_migration_guide.html#adapting-to-changes-in-the-copy-keyword\n",
      "  dummies[:,0] = y_train.flatten()\n"
     ]
    },
    {
     "data": {
      "text/plain": [
       "array([-0.99765253, -0.99773556, -0.9977771 , ..., -0.1300122 ,\n",
       "       -0.13479675, -0.13231064], shape=(9557,))"
      ]
     },
     "execution_count": 27,
     "metadata": {},
     "output_type": "execute_result"
    }
   ],
   "source": [
    "dummies = np.zeros((X_train.shape[0], lookback+1))\n",
    "dummies[:,0] = y_train.flatten()\n",
    "dummies = scaler.inverse_transform(dummies)\n",
    "\n",
    "new_y_train = dc(dummies[:,0])\n",
    "new_y_train"
   ]
  },
  {
   "cell_type": "code",
   "execution_count": 28,
   "metadata": {},
   "outputs": [
    {
     "data": {
      "image/png": "[encoded data removed]",
      "text/plain": [
       "<Figure size 640x480 with 1 Axes>"
      ]
     },
     "metadata": {},
     "output_type": "display_data"
    }
   ],
   "source": [
    "plt.plot(new_y_train, label='Actual close')\n",
    "plt.plot(train_predictions, label='predicted close')\n",
    "plt.xlabel('Day')\n",
    "plt.ylabel('Close')\n",
    "plt.legend()\n",
    "plt.show()"
   ]
  },
  {
   "cell_type": "code",
   "execution_count": 29,
   "metadata": {},
   "outputs": [],
   "source": [
    "test_predictions = model(X_test.to(device)).detach().cpu().numpy().flatten()\n",
    "dummiies = np.zeros((X_test.shape[0], lookback+1))\n",
    "dummiies[:,0] = test_predictions\n",
    "dummiies = scaler.inverse_transform(dummiies)\n",
    "\n",
    "test_predictions = dc(dummiies[:,0])\n",
    "#test_predictions"
   ]
  },
  {
   "cell_type": "code",
   "execution_count": 30,
   "metadata": {},
   "outputs": [
    {
     "name": "stderr",
     "output_type": "stream",
     "text": [
      "/var/folders/d7/80fz355j2730tx2lwyv6vf1w0000gn/T/ipykernel_94193/2088832707.py:2: DeprecationWarning: __array__ implementation doesn't accept a copy keyword, so passing copy=False failed. __array__ must implement 'dtype' and 'copy' keyword arguments. To learn more, see the migration guide https://numpy.org/devdocs/numpy_2_0_migration_guide.html#adapting-to-changes-in-the-copy-keyword\n",
      "  dummies[:,0] = y_test.flatten()\n"
     ]
    }
   ],
   "source": [
    "dummies = np.zeros((X_test.shape[0], lookback+1))\n",
    "dummies[:,0] = y_test.flatten()\n",
    "dummies = scaler.inverse_transform(dummies)\n",
    "\n",
    "new_y_test = dc(dummies[:,0])\n",
    "#new_y_test"
   ]
  },
  {
   "cell_type": "code",
   "execution_count": 31,
   "metadata": {},
   "outputs": [
    {
     "data": {
      "image/png": "[encoded data removed]",
      "text/plain": [
       "<Figure size 640x480 with 1 Axes>"
      ]
     },
     "metadata": {},
     "output_type": "display_data"
    }
   ],
   "source": [
    "plt.plot(new_y_test, label='Actual close')\n",
    "plt.plot(test_predictions, label='predicted close')\n",
    "plt.xlabel('Day')\n",
    "plt.ylabel('Close')\n",
    "plt.legend()\n",
    "plt.show()"
   ]
  }
 ],
 "metadata": {
  "kernelspec": {
   "display_name": ".venv",
   "language": "python",
   "name": "python3"
  },
  "language_info": {
   "codemirror_mode": {
    "name": "ipython",
    "version": 3
   },
   "file_extension": ".py",
   "mimetype": "text/x-python",
   "name": "python",
   "nbconvert_exporter": "python",
   "pygments_lexer": "ipython3",
   "version": "3.12.4"
  }
 },
 "nbformat": 4,
 "nbformat_minor": 2
}
